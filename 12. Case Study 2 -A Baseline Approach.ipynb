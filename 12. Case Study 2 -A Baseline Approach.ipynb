{
 "cells": [
  {
   "cell_type": "code",
   "execution_count": 2,
   "metadata": {
    "slideshow": {
     "slide_type": "skip"
    }
   },
   "outputs": [
    {
     "name": "stdout",
     "output_type": "stream",
     "text": [
      "The autoreload extension is already loaded. To reload it, use:\n",
      "  %reload_ext autoreload\n"
     ]
    }
   ],
   "source": [
    "# ============================================================\n",
    "# Notebook setup\n",
    "# ============================================================\n",
    "\n",
    "%load_ext autoreload\n",
    "%autoreload 2\n",
    "\n",
    "# Control figure size\n",
    "figsize=(14, 4)\n",
    "\n",
    "from util import util_xai as util\n",
    "from matplotlib import pyplot as plt\n",
    "import numpy as np\n",
    "import seaborn as sn\n",
    "import pandas as pd\n",
    "from sklearn.model_selection import train_test_split\n",
    "from sklearn.preprocessing import StandardScaler\n",
    "from sklearn.linear_model import LogisticRegression\n",
    "from sklearn.metrics import roc_auc_score\n",
    "from sklearn.model_selection import GridSearchCV\n",
    "\n",
    "# Generate synthetic data\n",
    "data, name_map = util.generate_data(size=500, seed=42)\n",
    "num_cols = [c for c in data.columns[:-1] if len(data[c].unique()) > 2]\n",
    "cat_cols = [c for c in data.columns[:-1] if len(data[c].unique()) == 2]"
   ]
  },
  {
   "cell_type": "markdown",
   "metadata": {
    "slideshow": {
     "slide_type": "slide"
    }
   },
   "source": [
    "# A Baseline Approach"
   ]
  },
  {
   "cell_type": "markdown",
   "metadata": {
    "slideshow": {
     "slide_type": "subslide"
    }
   },
   "source": [
    "## A Baseline Approach\n",
    "\n",
    "**Our goal is _understading_ the process behind the data**\n",
    "\n",
    "Of of many possible ways to do it consist in:\n",
    "\n",
    "* Training an approximate model via Machine Learning\n",
    "* Studying the model as a proxy for the real process\n",
    "\n",
    "> **Basically, we use a ML model as an _analysis tool_**"
   ]
  },
  {
   "cell_type": "markdown",
   "metadata": {},
   "source": [
    "**For this approach to work, we need the ML model to be _explainable_**\n",
    "\n",
    "* A few model naturally enjoy this property (e.g. linear models, simple DTs)\n",
    "* Explaining other models is not obvious (e.g. Neural Networks, large ensembles)\n",
    "\n",
    "We will start with the simplest option: Logistic Regression"
   ]
  },
  {
   "cell_type": "markdown",
   "metadata": {
    "slideshow": {
     "slide_type": "subslide"
    }
   },
   "source": [
    "## Data Preprocessing\n",
    "\n",
    "**We start with the usual data preprocessing**\n",
    "\n",
    "We will treat all candidate correlates as inputs"
   ]
  },
  {
   "cell_type": "code",
   "execution_count": 3,
   "metadata": {},
   "outputs": [],
   "source": [
    "# Input-output separation\n",
    "X, y = data[data.columns[:-1]].copy(), data[data.columns[-1]].copy()\n",
    "# Train-test split\n",
    "X_train, X_test, y_train, y_test = train_test_split(X, y, test_size=0.2, random_state=42)\n",
    "# Input standardization\n",
    "scaler = StandardScaler()\n",
    "X_train[num_cols] = scaler.fit_transform(X_train[num_cols])\n",
    "X_test[num_cols] = scaler.transform(X_test[num_cols])"
   ]
  },
  {
   "cell_type": "markdown",
   "metadata": {},
   "source": [
    "Even if we don't care about estimates, we need a _test/validation set_\n",
    "\n",
    "* This will allow us to check the model for overfitting\n",
    "\n",
    "We also need to standardize all numeric features\n",
    "\n",
    "* This will make the model coefficients more easily interpretable"
   ]
  },
  {
   "cell_type": "markdown",
   "metadata": {
    "slideshow": {
     "slide_type": "subslide"
    }
   },
   "source": [
    "## On the Danger of Overfitting\n",
    "\n",
    "**We plan to use our model as proxy for the true process**\n",
    "\n",
    "...Which makes _overfitting is especially bad_\n",
    "\n",
    "* Our results will stricly apply only to the model\n",
    "* ...And they will be as general as the model"
   ]
  },
  {
   "cell_type": "markdown",
   "metadata": {},
   "source": [
    "**We will use _L1 regularization_ on this purpose**\n",
    "\n",
    "Scikit learn support L1 regularizers for Logistic Regression in the form:\n",
    "\n",
    "$$\n",
    "\\mathop{\\mathrm{argmin}_\\theta} H(y, f(x, \\theta)) + \\frac{1}{C}\\|\\theta\\|_1\n",
    "$$\n",
    "\n",
    "* We encourage the weights to be close to 0\n",
    "* ...And we attempt to sparsify the weights"
   ]
  },
  {
   "cell_type": "markdown",
   "metadata": {
    "slideshow": {
     "slide_type": "subslide"
    }
   },
   "source": [
    "## Training our \"Proxy\" Model\n",
    "\n",
    "**We can calibrate the $C$ parameter via cross-validation**\n",
    "\n",
    "We'll need the [SAGA solver](https://www.di.ens.fr/~fbach/Defazio_NIPS2014.pdf) to train our model with L1 regularization"
   ]
  },
  {
   "cell_type": "code",
   "execution_count": 4,
   "metadata": {},
   "outputs": [],
   "source": [
    "base_est = LogisticRegression(penalty='l1', solver='saga')\n",
    "param_grid={'C': 1. / np.linspace(1e-1, 1e4, 100)}\n",
    "gscv = GridSearchCV(base_est, param_grid=param_grid, scoring='roc_auc')\n",
    "gscv.fit(X_train, y_train)\n",
    "lr, lr_params = gscv.best_estimator_, gscv.best_params_"
   ]
  },
  {
   "cell_type": "markdown",
   "metadata": {},
   "source": [
    "**Then we can check the performance of the refitted estimator**"
   ]
  },
  {
   "cell_type": "code",
   "execution_count": 5,
   "metadata": {},
   "outputs": [
    {
     "name": "stdout",
     "output_type": "stream",
     "text": [
      "AUC score for C=10.00: 0.64 (cross-validation), 0.60 (test)\n"
     ]
    }
   ],
   "source": [
    "lr_score_cv, lr_score_test = gscv.best_score_, roc_auc_score(y_test, lr.predict_proba(X_test)[:, 1])\n",
    "print(f'AUC score for C={lr_params[\"C\"]:.2f}: {lr_score_cv:.2f} (cross-validation), {lr_score_test:.2f} (test)')"
   ]
  },
  {
   "cell_type": "markdown",
   "metadata": {},
   "source": [
    "* We use the AUC score, since this is not a deterministic classification problem\n",
    "* There's no significant overfitting"
   ]
  },
  {
   "cell_type": "markdown",
   "metadata": {
    "slideshow": {
     "slide_type": "subslide"
    }
   },
   "source": [
    "## Coefficient Analysis\n",
    "\n",
    "**Finally, we can analyze the model coefficients**"
   ]
  },
  {
   "cell_type": "code",
   "execution_count": 6,
   "metadata": {},
   "outputs": [
    {
     "data": {
      "image/png": "[encoded data removed]",
      "text/plain": [
       "<Figure size 1400x400 with 1 Axes>"
      ]
     },
     "metadata": {},
     "output_type": "display_data"
    }
   ],
   "source": [
    "lr_coefs = pd.Series(index=X.columns, data=lr.coef_[0])\n",
    "util.plot_bars(lr_coefs, figsize=figsize)"
   ]
  },
  {
   "cell_type": "markdown",
   "metadata": {
    "slideshow": {
     "slide_type": "fragment"
    }
   },
   "source": [
    "* Some variables seem to be more important than others\n",
    "* The sign tells us how they are linked to the target"
   ]
  },
  {
   "cell_type": "markdown",
   "metadata": {
    "slideshow": {
     "slide_type": "subslide"
    }
   },
   "source": [
    "<div class=big>\n",
    "<span class=small>This baseline approach has <i>many</i> issues</span><br>\n",
    "Can you spot a few ones?\n",
    "</div>"
   ]
  },
  {
   "cell_type": "markdown",
   "metadata": {
    "slideshow": {
     "slide_type": "subslide"
    }
   },
   "source": [
    "## Three Key Issues with our Baseline\n",
    "\n",
    "**Issue 1: our model has _poor accuracy_**\n",
    "\n",
    "* An AUC score of 0.6 is not much above random\n",
    "* ...Hence, studying our model will say little about the data"
   ]
  },
  {
   "cell_type": "markdown",
   "metadata": {
    "slideshow": {
     "slide_type": "fragment"
    }
   },
   "source": [
    "**Issue 2: our model can only capture _linear correlations_**\n",
    "\n",
    "* We can capture neither non-linear effects\n",
    "* ...Nor interactions among the variables"
   ]
  },
  {
   "cell_type": "markdown",
   "metadata": {
    "slideshow": {
     "slide_type": "fragment"
    }
   },
   "source": [
    "**Issue 3: the coefficients are not sparse**\n",
    "\n",
    "* The L1 terms needs both to sparsify and to prevent overfitting\n",
    "* ...And it cannot do both things effectively\n",
    "* Additionally: it's unclear what a good level of sparsification might be"
   ]
  },
  {
   "cell_type": "markdown",
   "metadata": {},
   "source": [
    "<div class=big>\n",
    "We'll now get to work to fix them\n",
    "</div>"
   ]
  }
 ],
 "metadata": {
  "celltoolbar": "Slideshow",
  "kernelspec": {
   "display_name": "Python 3 (ipykernel)",
   "language": "python",
   "name": "python3"
  },
  "language_info": {
   "codemirror_mode": {
    "name": "ipython",
    "version": 3
   },
   "file_extension": ".py",
   "mimetype": "text/x-python",
   "name": "python",
   "nbconvert_exporter": "python",
   "pygments_lexer": "ipython3",
   "version": "3.11.11"
  },
  "rise": {
   "center": false,
   "enable_chalkboard": true,
   "transition": "fade"
  }
 },
 "nbformat": 4,
 "nbformat_minor": 4
}
